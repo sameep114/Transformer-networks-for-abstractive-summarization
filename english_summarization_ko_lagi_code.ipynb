{
  "nbformat": 4,
  "nbformat_minor": 0,
  "metadata": {
    "kernelspec": {
      "display_name": "Python 3",
      "language": "python",
      "name": "python3"
    },
    "language_info": {
      "codemirror_mode": {
        "name": "ipython",
        "version": 3
      },
      "file_extension": ".py",
      "mimetype": "text/x-python",
      "name": "python",
      "nbconvert_exporter": "python",
      "pygments_lexer": "ipython3",
      "version": "3.7.3"
    },
    "colab": {
      "name": "main-github.ipynb",
      "provenance": [],
      "collapsed_sections": [
        "Rxc6pSG6mzAi"
      ],
      "include_colab_link": true
    }
  },
  "cells": [
    {
      "cell_type": "markdown",
      "metadata": {
        "id": "view-in-github",
        "colab_type": "text"
      },
      "source": [
        "<a href=\"https://colab.research.google.com/github/sameep114/Transformer-networks-for-abstractive-summarization/blob/master/english_summarization_ko_lagi_code.ipynb\" target=\"_parent\"><img src=\"https://colab.research.google.com/assets/colab-badge.svg\" alt=\"Open In Colab\"/></a>"
      ]
    },
    {
      "cell_type": "code",
      "metadata": {
        "id": "j4jeL2BImy_u"
      },
      "source": [
        "import re\n",
        "import os\n",
        "import time\n",
        "import numpy as np\n",
        "import pandas as pd \n",
        "import unicodedata\n",
        "import tensorflow as tf\n",
        "import tensorflow.keras as krs\n",
        "from tensorflow.keras.layers import Embedding\n",
        "from tensorflow.keras.optimizers import Adam\n",
        "from tensorflow.keras.losses import SparseCategoricalCrossentropy, CategoricalCrossentropy\n",
        "from tensorflow.keras.preprocessing.text import Tokenizer \n",
        "from tensorflow.keras.optimizers.schedules import LearningRateSchedule\n",
        "import csv\n",
        "\n",
        "BUFFER_SIZE = 20000\n",
        "BATCH_SIZE = 64\n",
        "embedding_dim = 50 # first it was 200"
      ],
      "execution_count": null,
      "outputs": []
    },
    {
      "cell_type": "markdown",
      "metadata": {
        "id": "Re_m5ZEbmy_1"
      },
      "source": [
        "### Reading the data and droppping useless columns"
      ]
    },
    {
      "cell_type": "code",
      "metadata": {
        "colab": {
          "base_uri": "https://localhost:8080/"
        },
        "id": "y7y_N8FenDOx",
        "outputId": "7320bfff-cac0-4d50-d5c6-b764bac3277f"
      },
      "source": [
        "from google.colab import drive\r\n",
        "drive.mount(\"/content/drive\")\r\n",
        "# drive.flush_and_unmount()"
      ],
      "execution_count": null,
      "outputs": [
        {
          "output_type": "stream",
          "text": [
            "Mounted at /content/drive\n"
          ],
          "name": "stdout"
        }
      ]
    },
    {
      "cell_type": "code",
      "metadata": {
        "colab": {
          "base_uri": "https://localhost:8080/",
          "height": 195
        },
        "id": "TYIvkOJHmy_4",
        "outputId": "fca8420e-c630-4cdb-840a-c8c419255a53"
      },
      "source": [
        "data_unprocessed_news = pd.read_excel('/content/drive/MyDrive/Datasets/Inshorts Cleaned Data.xlsx')\n",
        "data_unprocessed_news.head()"
      ],
      "execution_count": null,
      "outputs": [
        {
          "output_type": "execute_result",
          "data": {
            "text/html": [
              "<div>\n",
              "<style scoped>\n",
              "    .dataframe tbody tr th:only-of-type {\n",
              "        vertical-align: middle;\n",
              "    }\n",
              "\n",
              "    .dataframe tbody tr th {\n",
              "        vertical-align: top;\n",
              "    }\n",
              "\n",
              "    .dataframe thead th {\n",
              "        text-align: right;\n",
              "    }\n",
              "</style>\n",
              "<table border=\"1\" class=\"dataframe\">\n",
              "  <thead>\n",
              "    <tr style=\"text-align: right;\">\n",
              "      <th></th>\n",
              "      <th>Headline</th>\n",
              "      <th>Short</th>\n",
              "      <th>Source</th>\n",
              "      <th>Time</th>\n",
              "      <th>Publish Date</th>\n",
              "    </tr>\n",
              "  </thead>\n",
              "  <tbody>\n",
              "    <tr>\n",
              "      <th>0</th>\n",
              "      <td>4 ex-bank officials booked for cheating bank o...</td>\n",
              "      <td>The CBI on Saturday booked four former officia...</td>\n",
              "      <td>The New Indian Express</td>\n",
              "      <td>09:25:00</td>\n",
              "      <td>2017-03-26</td>\n",
              "    </tr>\n",
              "    <tr>\n",
              "      <th>1</th>\n",
              "      <td>Supreme Court to go paperless in 6 months: CJI</td>\n",
              "      <td>Chief Justice JS Khehar has said the Supreme C...</td>\n",
              "      <td>Outlook</td>\n",
              "      <td>22:18:00</td>\n",
              "      <td>2017-03-25</td>\n",
              "    </tr>\n",
              "    <tr>\n",
              "      <th>2</th>\n",
              "      <td>At least 3 killed, 30 injured in blast in Sylh...</td>\n",
              "      <td>At least three people were killed, including a...</td>\n",
              "      <td>Hindustan Times</td>\n",
              "      <td>23:39:00</td>\n",
              "      <td>2017-03-25</td>\n",
              "    </tr>\n",
              "    <tr>\n",
              "      <th>3</th>\n",
              "      <td>Why has Reliance been barred from trading in f...</td>\n",
              "      <td>Mukesh Ambani-led Reliance Industries (RIL) wa...</td>\n",
              "      <td>Livemint</td>\n",
              "      <td>23:08:00</td>\n",
              "      <td>2017-03-25</td>\n",
              "    </tr>\n",
              "    <tr>\n",
              "      <th>4</th>\n",
              "      <td>Was stopped from entering my own studio at Tim...</td>\n",
              "      <td>TV news anchor Arnab Goswami has said he was t...</td>\n",
              "      <td>YouTube</td>\n",
              "      <td>23:24:00</td>\n",
              "      <td>2017-03-25</td>\n",
              "    </tr>\n",
              "  </tbody>\n",
              "</table>\n",
              "</div>"
            ],
            "text/plain": [
              "                                            Headline  ... Publish Date\n",
              "0  4 ex-bank officials booked for cheating bank o...  ...   2017-03-26\n",
              "1     Supreme Court to go paperless in 6 months: CJI  ...   2017-03-25\n",
              "2  At least 3 killed, 30 injured in blast in Sylh...  ...   2017-03-25\n",
              "3  Why has Reliance been barred from trading in f...  ...   2017-03-25\n",
              "4  Was stopped from entering my own studio at Tim...  ...   2017-03-25\n",
              "\n",
              "[5 rows x 5 columns]"
            ]
          },
          "metadata": {
            "tags": []
          },
          "execution_count": 75
        }
      ]
    },
    {
      "cell_type": "code",
      "metadata": {
        "id": "sQTsKsNqndak"
      },
      "source": [
        "# data_unprocessed_news=data_unprocessed_news[data_unprocessed_news.index<100]"
      ],
      "execution_count": null,
      "outputs": []
    },
    {
      "cell_type": "code",
      "metadata": {
        "colab": {
          "base_uri": "https://localhost:8080/",
          "height": 136
        },
        "id": "bDzleT46nv6M",
        "outputId": "ba04e220-4199-4eb0-8616-97edd29a041d"
      },
      "source": [
        "data_unprocessed_news.tail(3)"
      ],
      "execution_count": null,
      "outputs": [
        {
          "output_type": "execute_result",
          "data": {
            "text/html": [
              "<div>\n",
              "<style scoped>\n",
              "    .dataframe tbody tr th:only-of-type {\n",
              "        vertical-align: middle;\n",
              "    }\n",
              "\n",
              "    .dataframe tbody tr th {\n",
              "        vertical-align: top;\n",
              "    }\n",
              "\n",
              "    .dataframe thead th {\n",
              "        text-align: right;\n",
              "    }\n",
              "</style>\n",
              "<table border=\"1\" class=\"dataframe\">\n",
              "  <thead>\n",
              "    <tr style=\"text-align: right;\">\n",
              "      <th></th>\n",
              "      <th>Headline</th>\n",
              "      <th>Short</th>\n",
              "      <th>Source</th>\n",
              "      <th>Time</th>\n",
              "      <th>Publish Date</th>\n",
              "    </tr>\n",
              "  </thead>\n",
              "  <tbody>\n",
              "    <tr>\n",
              "      <th>55101</th>\n",
              "      <td>Ghulam Ali set to make acting debut in Bollywood</td>\n",
              "      <td>Pakistani Ghazal singer Ghulam Ali will soon m...</td>\n",
              "      <td>Hindustan Times</td>\n",
              "      <td>12:10:00</td>\n",
              "      <td>2016-01-20</td>\n",
              "    </tr>\n",
              "    <tr>\n",
              "      <th>55102</th>\n",
              "      <td>IS acknowledges death of Jihadi John: Report</td>\n",
              "      <td>The Islamic State (IS) has acknowledged the de...</td>\n",
              "      <td>YouTube</td>\n",
              "      <td>11:53:00</td>\n",
              "      <td>2016-01-20</td>\n",
              "    </tr>\n",
              "    <tr>\n",
              "      <th>55103</th>\n",
              "      <td>Cairn to seek $600 mn from India in damages</td>\n",
              "      <td>UK-based oil firm Cairn Energy on Tuesday said...</td>\n",
              "      <td>PTI News</td>\n",
              "      <td>20:50:00</td>\n",
              "      <td>2016-01-19</td>\n",
              "    </tr>\n",
              "  </tbody>\n",
              "</table>\n",
              "</div>"
            ],
            "text/plain": [
              "                                               Headline  ... Publish Date\n",
              "55101  Ghulam Ali set to make acting debut in Bollywood  ...   2016-01-20\n",
              "55102      IS acknowledges death of Jihadi John: Report  ...   2016-01-20\n",
              "55103       Cairn to seek $600 mn from India in damages  ...   2016-01-19\n",
              "\n",
              "[3 rows x 5 columns]"
            ]
          },
          "metadata": {
            "tags": []
          },
          "execution_count": 77
        }
      ]
    },
    {
      "cell_type": "code",
      "metadata": {
        "colab": {
          "base_uri": "https://localhost:8080/",
          "height": 195
        },
        "id": "vfuSeA5Tmy_7",
        "outputId": "64f8546c-467a-4b26-f791-4c7b4ef8e673"
      },
      "source": [
        "from sklearn.utils import shuffle\n",
        "# shuffling the data \n",
        "data_unprocessed_news = shuffle(data_unprocessed_news)\n",
        "data_unprocessed_news.head()"
      ],
      "execution_count": null,
      "outputs": [
        {
          "output_type": "execute_result",
          "data": {
            "text/html": [
              "<div>\n",
              "<style scoped>\n",
              "    .dataframe tbody tr th:only-of-type {\n",
              "        vertical-align: middle;\n",
              "    }\n",
              "\n",
              "    .dataframe tbody tr th {\n",
              "        vertical-align: top;\n",
              "    }\n",
              "\n",
              "    .dataframe thead th {\n",
              "        text-align: right;\n",
              "    }\n",
              "</style>\n",
              "<table border=\"1\" class=\"dataframe\">\n",
              "  <thead>\n",
              "    <tr style=\"text-align: right;\">\n",
              "      <th></th>\n",
              "      <th>Headline</th>\n",
              "      <th>Short</th>\n",
              "      <th>Source</th>\n",
              "      <th>Time</th>\n",
              "      <th>Publish Date</th>\n",
              "    </tr>\n",
              "  </thead>\n",
              "  <tbody>\n",
              "    <tr>\n",
              "      <th>51493</th>\n",
              "      <td>Priyanka shares picture from Oscar rehearsals</td>\n",
              "      <td>Actress Priyanka Chopra, who will be a present...</td>\n",
              "      <td>ScoopWhoop</td>\n",
              "      <td>21:16:00</td>\n",
              "      <td>2016-02-28</td>\n",
              "    </tr>\n",
              "    <tr>\n",
              "      <th>18654</th>\n",
              "      <td>Army Brigadier&amp;#39;s personal email hacked, al...</td>\n",
              "      <td>An Indian Army Brigadier, posted at the Army H...</td>\n",
              "      <td>Photo Gallery</td>\n",
              "      <td>18:30:00</td>\n",
              "      <td>2016-11-26</td>\n",
              "    </tr>\n",
              "    <tr>\n",
              "      <th>11685</th>\n",
              "      <td>&amp;#39;Dangal&amp;#39; actress Sanya Malhotra imitat...</td>\n",
              "      <td>Actress Sanya Malhotra, who featured in &amp;#39;D...</td>\n",
              "      <td>Instagram</td>\n",
              "      <td>16:02:00</td>\n",
              "      <td>2017-01-10</td>\n",
              "    </tr>\n",
              "    <tr>\n",
              "      <th>30624</th>\n",
              "      <td>Self-proclaimed nun Sofia Hayat promotes film</td>\n",
              "      <td>Former &amp;#39;Bigg Boss&amp;#39; contestant Sofia Ha...</td>\n",
              "      <td>India Today</td>\n",
              "      <td>10:30:00</td>\n",
              "      <td>2016-09-13</td>\n",
              "    </tr>\n",
              "    <tr>\n",
              "      <th>23972</th>\n",
              "      <td>We will attend Heart of Asia meet in India in ...</td>\n",
              "      <td>Adviser to Pakistani PM Nawaz Sharif on Foreig...</td>\n",
              "      <td>Hindustan Times</td>\n",
              "      <td>09:49:00</td>\n",
              "      <td>2016-10-25</td>\n",
              "    </tr>\n",
              "  </tbody>\n",
              "</table>\n",
              "</div>"
            ],
            "text/plain": [
              "                                                Headline  ... Publish Date\n",
              "51493      Priyanka shares picture from Oscar rehearsals  ...   2016-02-28\n",
              "18654  Army Brigadier&#39;s personal email hacked, al...  ...   2016-11-26\n",
              "11685  &#39;Dangal&#39; actress Sanya Malhotra imitat...  ...   2017-01-10\n",
              "30624      Self-proclaimed nun Sofia Hayat promotes film  ...   2016-09-13\n",
              "23972  We will attend Heart of Asia meet in India in ...  ...   2016-10-25\n",
              "\n",
              "[5 rows x 5 columns]"
            ]
          },
          "metadata": {
            "tags": []
          },
          "execution_count": 78
        }
      ]
    },
    {
      "cell_type": "code",
      "metadata": {
        "id": "f1ev-GcdplC8"
      },
      "source": [
        " data_unprocessed_news=data_unprocessed_news.rename(columns={'Short': 'long','Headline':'short'})"
      ],
      "execution_count": null,
      "outputs": []
    },
    {
      "cell_type": "code",
      "metadata": {
        "colab": {
          "base_uri": "https://localhost:8080/",
          "height": 195
        },
        "id": "WT3xnXfzp6n3",
        "outputId": "2d9e5b3b-1747-4a96-f199-1e56d15679bd"
      },
      "source": [
        "data_unprocessed_news.head()"
      ],
      "execution_count": null,
      "outputs": [
        {
          "output_type": "execute_result",
          "data": {
            "text/html": [
              "<div>\n",
              "<style scoped>\n",
              "    .dataframe tbody tr th:only-of-type {\n",
              "        vertical-align: middle;\n",
              "    }\n",
              "\n",
              "    .dataframe tbody tr th {\n",
              "        vertical-align: top;\n",
              "    }\n",
              "\n",
              "    .dataframe thead th {\n",
              "        text-align: right;\n",
              "    }\n",
              "</style>\n",
              "<table border=\"1\" class=\"dataframe\">\n",
              "  <thead>\n",
              "    <tr style=\"text-align: right;\">\n",
              "      <th></th>\n",
              "      <th>short</th>\n",
              "      <th>long</th>\n",
              "      <th>Source</th>\n",
              "      <th>Time</th>\n",
              "      <th>Publish Date</th>\n",
              "    </tr>\n",
              "  </thead>\n",
              "  <tbody>\n",
              "    <tr>\n",
              "      <th>51493</th>\n",
              "      <td>Priyanka shares picture from Oscar rehearsals</td>\n",
              "      <td>Actress Priyanka Chopra, who will be a present...</td>\n",
              "      <td>ScoopWhoop</td>\n",
              "      <td>21:16:00</td>\n",
              "      <td>2016-02-28</td>\n",
              "    </tr>\n",
              "    <tr>\n",
              "      <th>18654</th>\n",
              "      <td>Army Brigadier&amp;#39;s personal email hacked, al...</td>\n",
              "      <td>An Indian Army Brigadier, posted at the Army H...</td>\n",
              "      <td>Photo Gallery</td>\n",
              "      <td>18:30:00</td>\n",
              "      <td>2016-11-26</td>\n",
              "    </tr>\n",
              "    <tr>\n",
              "      <th>11685</th>\n",
              "      <td>&amp;#39;Dangal&amp;#39; actress Sanya Malhotra imitat...</td>\n",
              "      <td>Actress Sanya Malhotra, who featured in &amp;#39;D...</td>\n",
              "      <td>Instagram</td>\n",
              "      <td>16:02:00</td>\n",
              "      <td>2017-01-10</td>\n",
              "    </tr>\n",
              "    <tr>\n",
              "      <th>30624</th>\n",
              "      <td>Self-proclaimed nun Sofia Hayat promotes film</td>\n",
              "      <td>Former &amp;#39;Bigg Boss&amp;#39; contestant Sofia Ha...</td>\n",
              "      <td>India Today</td>\n",
              "      <td>10:30:00</td>\n",
              "      <td>2016-09-13</td>\n",
              "    </tr>\n",
              "    <tr>\n",
              "      <th>23972</th>\n",
              "      <td>We will attend Heart of Asia meet in India in ...</td>\n",
              "      <td>Adviser to Pakistani PM Nawaz Sharif on Foreig...</td>\n",
              "      <td>Hindustan Times</td>\n",
              "      <td>09:49:00</td>\n",
              "      <td>2016-10-25</td>\n",
              "    </tr>\n",
              "  </tbody>\n",
              "</table>\n",
              "</div>"
            ],
            "text/plain": [
              "                                                   short  ... Publish Date\n",
              "51493      Priyanka shares picture from Oscar rehearsals  ...   2016-02-28\n",
              "18654  Army Brigadier&#39;s personal email hacked, al...  ...   2016-11-26\n",
              "11685  &#39;Dangal&#39; actress Sanya Malhotra imitat...  ...   2017-01-10\n",
              "30624      Self-proclaimed nun Sofia Hayat promotes film  ...   2016-09-13\n",
              "23972  We will attend Heart of Asia meet in India in ...  ...   2016-10-25\n",
              "\n",
              "[5 rows x 5 columns]"
            ]
          },
          "metadata": {
            "tags": []
          },
          "execution_count": 80
        }
      ]
    },
    {
      "cell_type": "code",
      "metadata": {
        "colab": {
          "base_uri": "https://localhost:8080/"
        },
        "id": "C93NEUAgmy_8",
        "outputId": "be4cb563-7b1e-4f50-cb89-ff199b8f46fd"
      },
      "source": [
        "summaries, longreview = pd.DataFrame(), pd.DataFrame()\n",
        "summaries['short'] = data_unprocessed_news['short']#[:data_to_use]\n",
        "longreview['long'] = data_unprocessed_news['long']#[:data_to_use]\n",
        "(summaries.shape,longreview.shape)"
      ],
      "execution_count": null,
      "outputs": [
        {
          "output_type": "execute_result",
          "data": {
            "text/plain": [
              "((55104, 1), (55104, 1))"
            ]
          },
          "metadata": {
            "tags": []
          },
          "execution_count": 81
        }
      ]
    },
    {
      "cell_type": "markdown",
      "metadata": {
        "id": "rLLRHyq2my_-"
      },
      "source": [
        "### Cleaning the data for training"
      ]
    },
    {
      "cell_type": "code",
      "metadata": {
        "id": "vPvqlm5LmzAA"
      },
      "source": [
        "# replacing many abbreviations and lower casing the words\n",
        "def clean_words(sentence):\n",
        "    sentence = str(sentence).lower()\n",
        "    sentence = unicodedata.normalize('NFKD', sentence).encode('ascii', 'ignore').decode('utf-8', 'ignore') # for converting é to e and other accented chars\n",
        "    sentence = re.sub(r\"http\\S+\",\"\",sentence)\n",
        "    sentence = re.sub(r\"there's\", \"there is\", sentence)\n",
        "    sentence = re.sub(r\"i'm\", \"i am\", sentence)\n",
        "    sentence = re.sub(r\"he's\", \"he is\", sentence)\n",
        "    sentence = re.sub(r\"she's\", \"she is\", sentence)\n",
        "    sentence = re.sub(r\"it's\", \"it is\", sentence)\n",
        "    sentence = re.sub(r\"that's\", \"that is\", sentence)\n",
        "    sentence = re.sub(r\"what's\", \"that is\", sentence)\n",
        "    sentence = re.sub(r\"where's\", \"where is\", sentence)\n",
        "    sentence = re.sub(r\"how's\", \"how is\", sentence)\n",
        "    sentence = re.sub(r\"\\'ll\", \" will\", sentence)\n",
        "    sentence = re.sub(r\"\\'ve\", \" have\", sentence)\n",
        "    sentence = re.sub(r\"\\'re\", \" are\", sentence)\n",
        "    sentence = re.sub(r\"\\'d\", \" would\", sentence)\n",
        "    sentence = re.sub(r\"\\'re\", \" are\", sentence)\n",
        "    sentence = re.sub(r\"won't\", \"will not\", sentence)\n",
        "    sentence = re.sub(r\"can't\", \"cannot\", sentence)\n",
        "    sentence = re.sub(r\"n't\", \" not\", sentence)\n",
        "    sentence = re.sub(r\"n'\", \"ng\", sentence)\n",
        "    sentence = re.sub(r\"'bout\", \"about\", sentence)\n",
        "    sentence = re.sub(r\"'til\", \"until\", sentence)\n",
        "    sentence = re.sub(r\"\\\"\", \"\", sentence)\n",
        "    sentence = re.sub(r\"\\'\", \"\", sentence)\n",
        "    sentence = re.sub(r' s ', \"\",sentence)\n",
        "    sentence = re.sub(r\"&39\", \"\", sentence) # the inshorts data has this in it\n",
        "    sentence = re.sub(r\"&34\", \"\", sentence) # the inshorts data has this in it\n",
        "    sentence = re.sub(r\"[\\[\\]\\\\0-9()\\\"$#%/@;:<>{}`+=~|.!?,-]\", \"\", sentence)\n",
        "    sentence = re.sub(r\"&\", \"\", sentence)\n",
        "    sentence = re.sub(r\"\\\\n\", \"\", sentence)\n",
        "    sentence = sentence.strip()\n",
        "    return sentence"
      ],
      "execution_count": null,
      "outputs": []
    },
    {
      "cell_type": "code",
      "metadata": {
        "id": "nGPnK5xdmzAC"
      },
      "source": [
        "summaries['short'] = summaries['short'].apply(lambda x: clean_words(x))\n",
        "longreview['long'] = longreview['long'].apply(lambda x: clean_words(x))"
      ],
      "execution_count": null,
      "outputs": []
    },
    {
      "cell_type": "code",
      "metadata": {
        "colab": {
          "base_uri": "https://localhost:8080/",
          "height": 195
        },
        "id": "50_NTfcOmzAD",
        "outputId": "f5c84df5-9661-4649-f5fd-1c028222a095"
      },
      "source": [
        "longreview.head()"
      ],
      "execution_count": null,
      "outputs": [
        {
          "output_type": "execute_result",
          "data": {
            "text/html": [
              "<div>\n",
              "<style scoped>\n",
              "    .dataframe tbody tr th:only-of-type {\n",
              "        vertical-align: middle;\n",
              "    }\n",
              "\n",
              "    .dataframe tbody tr th {\n",
              "        vertical-align: top;\n",
              "    }\n",
              "\n",
              "    .dataframe thead th {\n",
              "        text-align: right;\n",
              "    }\n",
              "</style>\n",
              "<table border=\"1\" class=\"dataframe\">\n",
              "  <thead>\n",
              "    <tr style=\"text-align: right;\">\n",
              "      <th></th>\n",
              "      <th>long</th>\n",
              "    </tr>\n",
              "  </thead>\n",
              "  <tbody>\n",
              "    <tr>\n",
              "      <th>51493</th>\n",
              "      <td>actress priyanka chopra who will be a presente...</td>\n",
              "    </tr>\n",
              "    <tr>\n",
              "      <th>18654</th>\n",
              "      <td>an indian army brigadier posted at the army he...</td>\n",
              "    </tr>\n",
              "    <tr>\n",
              "      <th>11685</th>\n",
              "      <td>actress sanya malhotra who featured in dangal ...</td>\n",
              "    </tr>\n",
              "    <tr>\n",
              "      <th>30624</th>\n",
              "      <td>former bigg boss contestant sofia hayat who cl...</td>\n",
              "    </tr>\n",
              "    <tr>\n",
              "      <th>23972</th>\n",
              "      <td>adviser to pakistani pm nawaz sharif on foreig...</td>\n",
              "    </tr>\n",
              "  </tbody>\n",
              "</table>\n",
              "</div>"
            ],
            "text/plain": [
              "                                                    long\n",
              "51493  actress priyanka chopra who will be a presente...\n",
              "18654  an indian army brigadier posted at the army he...\n",
              "11685  actress sanya malhotra who featured in dangal ...\n",
              "30624  former bigg boss contestant sofia hayat who cl...\n",
              "23972  adviser to pakistani pm nawaz sharif on foreig..."
            ]
          },
          "metadata": {
            "tags": []
          },
          "execution_count": 84
        }
      ]
    },
    {
      "cell_type": "code",
      "metadata": {
        "colab": {
          "base_uri": "https://localhost:8080/",
          "height": 195
        },
        "id": "_1Jx_Kb0mzAF",
        "outputId": "977b45b2-d2e7-4ffd-f443-8e49f821aa77"
      },
      "source": [
        "# adding start and end token to the senteces of label \n",
        "start_token, end_token = '<startseq>' , '<endseq>'\n",
        "summaries = summaries.apply(lambda x: start_token + ' ' + x + ' ' + end_token)\n",
        "summaries.head()"
      ],
      "execution_count": null,
      "outputs": [
        {
          "output_type": "execute_result",
          "data": {
            "text/html": [
              "<div>\n",
              "<style scoped>\n",
              "    .dataframe tbody tr th:only-of-type {\n",
              "        vertical-align: middle;\n",
              "    }\n",
              "\n",
              "    .dataframe tbody tr th {\n",
              "        vertical-align: top;\n",
              "    }\n",
              "\n",
              "    .dataframe thead th {\n",
              "        text-align: right;\n",
              "    }\n",
              "</style>\n",
              "<table border=\"1\" class=\"dataframe\">\n",
              "  <thead>\n",
              "    <tr style=\"text-align: right;\">\n",
              "      <th></th>\n",
              "      <th>short</th>\n",
              "    </tr>\n",
              "  </thead>\n",
              "  <tbody>\n",
              "    <tr>\n",
              "      <th>51493</th>\n",
              "      <td>&lt;startseq&gt; priyanka shares picture from oscar ...</td>\n",
              "    </tr>\n",
              "    <tr>\n",
              "      <th>18654</th>\n",
              "      <td>&lt;startseq&gt; army brigadiers personal email hack...</td>\n",
              "    </tr>\n",
              "    <tr>\n",
              "      <th>11685</th>\n",
              "      <td>&lt;startseq&gt; dangal actress sanya malhotra imita...</td>\n",
              "    </tr>\n",
              "    <tr>\n",
              "      <th>30624</th>\n",
              "      <td>&lt;startseq&gt; selfproclaimed nun sofia hayat prom...</td>\n",
              "    </tr>\n",
              "    <tr>\n",
              "      <th>23972</th>\n",
              "      <td>&lt;startseq&gt; we will attend heart of asia meet i...</td>\n",
              "    </tr>\n",
              "  </tbody>\n",
              "</table>\n",
              "</div>"
            ],
            "text/plain": [
              "                                                   short\n",
              "51493  <startseq> priyanka shares picture from oscar ...\n",
              "18654  <startseq> army brigadiers personal email hack...\n",
              "11685  <startseq> dangal actress sanya malhotra imita...\n",
              "30624  <startseq> selfproclaimed nun sofia hayat prom...\n",
              "23972  <startseq> we will attend heart of asia meet i..."
            ]
          },
          "metadata": {
            "tags": []
          },
          "execution_count": 85
        }
      ]
    },
    {
      "cell_type": "code",
      "metadata": {
        "colab": {
          "base_uri": "https://localhost:8080/"
        },
        "id": "we6uDhc9mzAH",
        "outputId": "d5bba2dd-e3ef-43ec-fa04-f0d9a8fec24c"
      },
      "source": [
        "val_split = 0.1\n",
        "# train validation split\n",
        "summaries_train = summaries[int(len(summaries)*val_split):]\n",
        "summaries_val = summaries[:int(len(summaries)*val_split)]\n",
        "longreview_train = longreview[int(len(summaries)*val_split):]\n",
        "longreview_val = longreview[:int(len(summaries)*val_split)]\n",
        "\n",
        "len(longreview_val),len(longreview_train)"
      ],
      "execution_count": null,
      "outputs": [
        {
          "output_type": "execute_result",
          "data": {
            "text/plain": [
              "(5510, 49594)"
            ]
          },
          "metadata": {
            "tags": []
          },
          "execution_count": 86
        }
      ]
    },
    {
      "cell_type": "code",
      "metadata": {
        "colab": {
          "base_uri": "https://localhost:8080/"
        },
        "id": "TCatrsI9mzAI",
        "outputId": "9b7e910b-833a-40e9-f56e-a201473450cf"
      },
      "source": [
        "longreview_train.iloc[0], summaries_train.iloc[0]"
      ],
      "execution_count": null,
      "outputs": [
        {
          "output_type": "execute_result",
          "data": {
            "text/plain": [
              "(long    tamil nadu has the highest fiscal deficit amon...\n",
              " Name: 38083, dtype: object,\n",
              " short    <startseq> tamil nadus fiscal deficit highest ...\n",
              " Name: 38083, dtype: object)"
            ]
          },
          "metadata": {
            "tags": []
          },
          "execution_count": 87
        }
      ]
    },
    {
      "cell_type": "markdown",
      "metadata": {
        "id": "ZqdOMdPdmzAK"
      },
      "source": [
        "finding the maximum length of questions and answers"
      ]
    },
    {
      "cell_type": "code",
      "metadata": {
        "colab": {
          "base_uri": "https://localhost:8080/"
        },
        "id": "cV6pTAxumzAL",
        "outputId": "94db004e-b26d-44a0-efaa-28a07e808242"
      },
      "source": [
        "# because there are senteces with unusually long lengths, \n",
        "# we caculate the max length that 95% of sentences are shorter than that\n",
        "def max_length(shorts, longs, prct):\n",
        "    # Create a list of all the captions\n",
        "    \n",
        "    length_longs = list(len(d.split()) for d in longs)\n",
        "    length_shorts = list(len(d.split()) for d in shorts)\n",
        "\n",
        "    print('percentile {} of length of news: {}'.format(prct,np.percentile(length_longs, prct)))\n",
        "    print('longest sentence: ', max(length_longs))\n",
        "    print()\n",
        "    print('percentile {} of length of summaries: {}'.format(prct,np.percentile(length_shorts, prct)))\n",
        "    print('longest sentence: ', max(length_shorts))\n",
        "    print()\n",
        "    return int(np.percentile(length_longs, prct)),int(np.percentile(length_shorts, prct))\n",
        "\n",
        "# selecting sentence length based on the percentile of data that fits in the length\n",
        "max_len_news, max_len_summary= max_length(summaries_train['short'].to_list(), longreview_train['long'].to_list(), 90)\n",
        "\n",
        "\n",
        "print('max-length longreview chosen for training: ', max_len_news)\n",
        "print('max-length summaries chosen for training: ', max_len_summary)"
      ],
      "execution_count": null,
      "outputs": [
        {
          "output_type": "stream",
          "text": [
            "percentile 90 of length of news: 60.0\n",
            "longest sentence:  66\n",
            "\n",
            "percentile 90 of length of summaries: 12.0\n",
            "longest sentence:  16\n",
            "\n",
            "max-length longreview chosen for training:  60\n",
            "max-length summaries chosen for training:  12\n"
          ],
          "name": "stdout"
        }
      ]
    },
    {
      "cell_type": "markdown",
      "metadata": {
        "id": "-wHetgZFmzAN"
      },
      "source": [
        "### Dataset prepration\n"
      ]
    },
    {
      "cell_type": "code",
      "metadata": {
        "id": "EnDmdlgDmzAO"
      },
      "source": [
        "# making a vocabulary of the words \n",
        "def create_vocab(shorts, longs = None, minimum_repeat = 3):\n",
        "\n",
        "    # Create a list of all the captions\n",
        "    all_captions = []\n",
        "    for s in shorts:\n",
        "        all_captions.append(s)\n",
        "\n",
        "    # Consider only words which occur at least minimum_occurrence times in the corpus\n",
        "    word_counts = {}\n",
        "    nsents = 0\n",
        "    for sent in all_captions:\n",
        "        nsents += 1\n",
        "        for w in sent.split(' '):\n",
        "            word_counts[w] = word_counts.get(w, 0) + 1\n",
        "\n",
        "    vocab = [w for w in word_counts if word_counts[w] >= minimum_repeat]\n",
        "    \n",
        "    vocab = list(set(vocab))\n",
        "    return vocab"
      ],
      "execution_count": null,
      "outputs": []
    },
    {
      "cell_type": "code",
      "metadata": {
        "colab": {
          "base_uri": "https://localhost:8080/"
        },
        "id": "tg20IZDZmzAP",
        "outputId": "e0ca0746-1b3d-462a-c18f-ec49e45df18c"
      },
      "source": [
        "# each word in the vocabulary must be used in the data atleast minimum_repeat times\n",
        "vocab_dec = create_vocab(summaries_train['short'].to_list(), minimum_repeat=5) # here we just use the words in vocabulary of summaries\n",
        "# removing one character words from vocab except for 'a'\n",
        "for v in vocab_dec:\n",
        "    if len(v) == 1 and v!='a' and v!='i':\n",
        "        vocab_dec.remove(v) \n",
        "        \n",
        "vocab_dec = sorted(vocab_dec)[1:] # [1:] is for the '' \n",
        "vocab_dec[:10]"
      ],
      "execution_count": null,
      "outputs": [
        {
          "output_type": "execute_result",
          "data": {
            "text/plain": [
              "['<endseq>',\n",
              " '<startseq>',\n",
              " 'a',\n",
              " 'aa',\n",
              " 'aadhaar',\n",
              " 'aadhaarbased',\n",
              " 'aadmi',\n",
              " 'aam',\n",
              " 'aamir',\n",
              " 'aamirs']"
            ]
          },
          "metadata": {
            "tags": []
          },
          "execution_count": 90
        }
      ]
    },
    {
      "cell_type": "code",
      "metadata": {
        "colab": {
          "base_uri": "https://localhost:8080/"
        },
        "id": "MDACWPfsmzAQ",
        "outputId": "cc43b55c-3bf4-45ff-e380-e83baeb51a38"
      },
      "source": [
        "# each word in the vocabulary must be used in the data atleast minimum_repeat times\n",
        "vocab_enc = create_vocab(longreview_train['long'].to_list(), minimum_repeat=3) # here we just use the words in vocabulary of summaries\n",
        "# removing one character words from vocab except for 'a'\n",
        "for v in vocab_enc:\n",
        "    if len(v) == 1 and v!='a' and v!='i':\n",
        "        vocab_enc.remove(v) \n",
        "        \n",
        "vocab_enc = sorted(vocab_enc)[1:] # [1:] is for the '' \n",
        "vocab_enc[:10]"
      ],
      "execution_count": null,
      "outputs": [
        {
          "output_type": "execute_result",
          "data": {
            "text/plain": [
              "['****ing',\n",
              " 'a',\n",
              " 'aa',\n",
              " 'aadat',\n",
              " 'aadhaar',\n",
              " 'aadhaarbased',\n",
              " 'aadhaarenabled',\n",
              " 'aadhaarlinked',\n",
              " 'aadhar',\n",
              " 'aadmi']"
            ]
          },
          "metadata": {
            "tags": []
          },
          "execution_count": 91
        }
      ]
    },
    {
      "cell_type": "code",
      "metadata": {
        "colab": {
          "base_uri": "https://localhost:8080/"
        },
        "id": "PQXFLh4amzAS",
        "outputId": "9c6f1c20-7e9c-471a-d768-9ba9d11d04e5"
      },
      "source": [
        "oov_token = '<UNK>'\n",
        "filters = '!\"#$%&()*+,-./:;=?@[\\\\]^_`{|}~\\t\\n' # making sure all the last non digit non alphabet chars are removed\n",
        "document_tokenizer = krs.preprocessing.text.Tokenizer(filters = filters,oov_token=oov_token)\n",
        "summary_tokenizer = krs.preprocessing.text.Tokenizer(filters = filters,oov_token=oov_token)\n",
        "document_tokenizer.fit_on_texts(vocab_enc)\n",
        "summary_tokenizer.fit_on_texts(vocab_dec)#summaries_train['short'])\n",
        "\n",
        "# caculating number of words in vocabulary of encoder and decoder\n",
        "# they are important for positional encoding\n",
        "encoder_vocab_size = len(document_tokenizer.word_index) + 1 \n",
        "decoder_vocab_size = len(summary_tokenizer.word_index) + 1\n",
        "\n",
        "# vocab_size\n",
        "encoder_vocab_size, decoder_vocab_size"
      ],
      "execution_count": null,
      "outputs": [
        {
          "output_type": "execute_result",
          "data": {
            "text/plain": [
              "(32483, 8900)"
            ]
          },
          "metadata": {
            "tags": []
          },
          "execution_count": 92
        }
      ]
    },
    {
      "cell_type": "code",
      "metadata": {
        "id": "oaJ4MEnymzAV"
      },
      "source": [
        "ixtoword_enc = {} # index to word dic\n",
        "ixtoword_dec = {} # index to word dic\n",
        "\n",
        "wordtoix_enc = document_tokenizer.word_index # word to index dic\n",
        "ixtoword_enc[0] = '<PAD0>' # no word in vocab has index 0. but padding is indicated with 0\n",
        "ixtoword_dec[0] = '<PAD0>' # no word in vocab has index 0. but padding is indicated with 0\n",
        "\n",
        "for w in document_tokenizer.word_index:\n",
        "    ixtoword_enc[document_tokenizer.word_index[w]] = w\n",
        "################################################\n",
        "wordtoix_dec = summary_tokenizer.word_index # word to index dic\n",
        "\n",
        "for w in summary_tokenizer.word_index:\n",
        "    ixtoword_dec[summary_tokenizer.word_index[w]] = w"
      ],
      "execution_count": null,
      "outputs": []
    },
    {
      "cell_type": "code",
      "metadata": {
        "id": "HgMxseZJmzAW"
      },
      "source": [
        "# assign a number to each word inorder to find it in word embeddings\n",
        "inputs = document_tokenizer.texts_to_sequences(longreview_train['long'])\n",
        "targets = summary_tokenizer.texts_to_sequences(summaries_train['short'])\n",
        "inputs_val = document_tokenizer.texts_to_sequences(longreview_val['long'])\n",
        "targets_val = summary_tokenizer.texts_to_sequences(summaries_val['short'])"
      ],
      "execution_count": null,
      "outputs": []
    },
    {
      "cell_type": "code",
      "metadata": {
        "id": "radsJ9UMmzAX"
      },
      "source": [
        "inputs = krs.preprocessing.sequence.pad_sequences(inputs, maxlen=max_len_news, padding='post', truncating='post')\n",
        "targets = krs.preprocessing.sequence.pad_sequences(targets, maxlen=max_len_summary, padding='post', truncating='post')\n",
        "inputs_val = krs.preprocessing.sequence.pad_sequences(inputs_val, maxlen=max_len_news, padding='post', truncating='post')\n",
        "targets_val = krs.preprocessing.sequence.pad_sequences(targets_val, maxlen=max_len_summary, padding='post', truncating='post')"
      ],
      "execution_count": null,
      "outputs": []
    },
    {
      "cell_type": "code",
      "metadata": {
        "id": "sM3lNEjImzAZ"
      },
      "source": [
        "# validate train split\n",
        "dataset = tf.data.Dataset.from_tensor_slices((inputs,targets)).shuffle(BUFFER_SIZE).batch(BATCH_SIZE)\n",
        "dataset_val = tf.data.Dataset.from_tensor_slices((inputs_val,targets_val)).shuffle(BUFFER_SIZE).batch(BATCH_SIZE*2)"
      ],
      "execution_count": null,
      "outputs": []
    },
    {
      "cell_type": "code",
      "metadata": {
        "id": "BZWI5UyUmzAa"
      },
      "source": [
        "longreview_val.reset_index(inplace=True, drop=True)\n",
        "summaries_val.reset_index(inplace=True, drop=True)\n",
        "longreview_train.reset_index(inplace=True, drop=True)\n",
        "summaries_train.reset_index(inplace=True, drop=True)"
      ],
      "execution_count": null,
      "outputs": []
    },
    {
      "cell_type": "markdown",
      "metadata": {
        "id": "tFKg_9wdmzAb"
      },
      "source": [
        "### Defining the model"
      ]
    },
    {
      "cell_type": "code",
      "metadata": {
        "id": "GUs2AptsmzAc"
      },
      "source": [
        "import matplotlib.pyplot as plt\n",
        "\n",
        "def hist(history):\n",
        "    plt.title('Loss')\n",
        "\n",
        "    x= [i[0] for i in history['val']]\n",
        "    y=[i[1] for i in history['val']]\n",
        "    plt.plot(x,y,'x-')\n",
        "    \n",
        "    x= [i[0] for i in history['train']]\n",
        "    y=[i[1] for i in history['train']]    \n",
        "    plt.plot(x,y,'o-')\n",
        "\n",
        "    plt.legend(['validation','train'])\n",
        "    plt.show()\n",
        "    print('smallest val loss:', sorted(history['val'],key=lambda x: x[1])[0])"
      ],
      "execution_count": null,
      "outputs": []
    },
    {
      "cell_type": "markdown",
      "metadata": {
        "id": "1AFdiyoEmzAe"
      },
      "source": [
        "#### Scaled Dot Product\n",
        "![](files/z-score.png)\n"
      ]
    },
    {
      "cell_type": "code",
      "metadata": {
        "id": "Z3bLE5dFmzAe"
      },
      "source": [
        "# the job of this function is to calculate the above equation\n",
        "def scaled_dot_product_attention(q, k, v, mask):\n",
        "    matmul_qk = tf.matmul(q, k, transpose_b=True)\n",
        "\n",
        "    dk = tf.cast(tf.shape(k)[-1], tf.float32)\n",
        "    scaled_attention_logits = matmul_qk / tf.math.sqrt(dk)\n",
        "\n",
        "    if mask is not None:\n",
        "        scaled_attention_logits += (mask * -1e9)  \n",
        "\n",
        "    attention_weights = tf.nn.softmax(scaled_attention_logits, axis=-1)\n",
        "\n",
        "    output = tf.matmul(attention_weights, v)\n",
        "    return output, attention_weights"
      ],
      "execution_count": null,
      "outputs": []
    },
    {
      "cell_type": "markdown",
      "metadata": {
        "id": "NTH5_xi_mzAf"
      },
      "source": [
        "#### multi-headed attention\n",
        "![](files/multi-head.png)"
      ]
    },
    {
      "cell_type": "code",
      "metadata": {
        "id": "IfZOODNkmzAg"
      },
      "source": [
        "class MultiHeadAttention(krs.layers.Layer):\n",
        "    def __init__(self, d_model, num_heads):\n",
        "        super(MultiHeadAttention, self).__init__()\n",
        "        self.num_heads = num_heads\n",
        "        self.d_model = d_model\n",
        "\n",
        "        assert d_model % self.num_heads == 0\n",
        "\n",
        "        self.depth = d_model // self.num_heads # The dimensions of Q, K, V are called depth\n",
        "\n",
        "        # the input of these 3 layers are the same: X\n",
        "        self.wq = krs.layers.Dense(d_model,kernel_regularizer=krs.regularizers.l2(l=lmbda_l2))\n",
        "        self.wk = krs.layers.Dense(d_model,kernel_regularizer=krs.regularizers.l2(l=lmbda_l2))\n",
        "        self.wv = krs.layers.Dense(d_model,kernel_regularizer=krs.regularizers.l2(l=lmbda_l2))\n",
        "\n",
        "        self.dense = tf.keras.layers.Dense(d_model,kernel_regularizer=krs.regularizers.l2(l=lmbda_l2))\n",
        "    \n",
        "    # reshape the Q,K,V \n",
        "    def split_heads(self, x, batch_size):\n",
        "        x = tf.reshape(x, (batch_size, -1, self.num_heads, self.depth))\n",
        "        return tf.transpose(x, perm=[0, 2, 1, 3])\n",
        "    \n",
        "    def call(self, v, k, q, mask):\n",
        "        batch_size = tf.shape(q)[0]\n",
        "        \n",
        "        # learn the Q,K,V matrices (the layers' weightes)\n",
        "        q = self.wq(q)\n",
        "        k = self.wk(k)\n",
        "        v = self.wv(v)\n",
        "        \n",
        "        # reshape them\n",
        "        q = self.split_heads(q, batch_size)\n",
        "        k = self.split_heads(k, batch_size)\n",
        "        v = self.split_heads(v, batch_size)\n",
        "\n",
        "        scaled_attention, attention_weights = scaled_dot_product_attention(\n",
        "            q, k, v, mask)\n",
        "\n",
        "        scaled_attention = tf.transpose(scaled_attention, perm=[0, 2, 1, 3])\n",
        "        \n",
        "        # the last dens layer expect one vector so we use concat\n",
        "        concat_attention = tf.reshape(scaled_attention, (batch_size, -1, self.d_model))\n",
        "        output = self.dense(concat_attention)\n",
        "            \n",
        "        return output, attention_weights"
      ],
      "execution_count": null,
      "outputs": []
    },
    {
      "cell_type": "markdown",
      "metadata": {
        "id": "_xYWjxihmzAh"
      },
      "source": [
        "#### positional encoding"
      ]
    },
    {
      "cell_type": "code",
      "metadata": {
        "id": "RRfqzqQcmzAi"
      },
      "source": [
        "def get_angles(position, i, d_model):\n",
        "    angle_rates = 1 / np.power(10000, (2 * (i // 2)) / np.float32(d_model))\n",
        "    return position * angle_rates\n",
        "\n",
        "# The dimension of positional encodings is the same as\n",
        "# the embeddings (d_model) for facilitating the summation of both.\n",
        "def positional_encoding(position, d_model):\n",
        "    angle_rads = get_angles(\n",
        "        np.arange(position)[:, np.newaxis],\n",
        "        np.arange(d_model)[np.newaxis, :],\n",
        "        d_model\n",
        "    )\n",
        "\n",
        "    # apply sin to even indices in the array; 2i\n",
        "    angle_rads[:, 0::2] = np.sin(angle_rads[:, 0::2])\n",
        "\n",
        "    # apply cos to odd indices in the array; 2i+1\n",
        "    angle_rads[:, 1::2] = np.cos(angle_rads[:, 1::2])\n",
        "\n",
        "    pos_encoding = angle_rads[np.newaxis, ...]\n",
        "\n",
        "    return tf.cast(pos_encoding, dtype=tf.float32)"
      ],
      "execution_count": null,
      "outputs": []
    },
    {
      "cell_type": "markdown",
      "metadata": {
        "id": "Rxc6pSG6mzAi"
      },
      "source": [
        "#### Layers"
      ]
    },
    {
      "cell_type": "markdown",
      "metadata": {
        "id": "Om_Rmsz9mzAj"
      },
      "source": [
        "#### Embeddings preparation"
      ]
    },
    {
      "cell_type": "code",
      "metadata": {
        "colab": {
          "base_uri": "https://localhost:8080/"
        },
        "id": "m3HMRjvIqoyZ",
        "outputId": "2ba9cf3b-575d-4e0d-b416-779fdd7e2ff1"
      },
      "source": [
        "# !wget http://nlp.stanford.edu/data/glove.6B.zip"
      ],
      "execution_count": null,
      "outputs": [
        {
          "output_type": "stream",
          "text": [
            "--2021-02-20 09:04:50--  http://nlp.stanford.edu/data/glove.6B.zip\n",
            "Resolving nlp.stanford.edu (nlp.stanford.edu)... 171.64.67.140\n",
            "Connecting to nlp.stanford.edu (nlp.stanford.edu)|171.64.67.140|:80... connected.\n",
            "HTTP request sent, awaiting response... 302 Found\n",
            "Location: https://nlp.stanford.edu/data/glove.6B.zip [following]\n",
            "--2021-02-20 09:04:50--  https://nlp.stanford.edu/data/glove.6B.zip\n",
            "Connecting to nlp.stanford.edu (nlp.stanford.edu)|171.64.67.140|:443... connected.\n",
            "HTTP request sent, awaiting response... 301 Moved Permanently\n",
            "Location: http://downloads.cs.stanford.edu/nlp/data/glove.6B.zip [following]\n",
            "--2021-02-20 09:04:51--  http://downloads.cs.stanford.edu/nlp/data/glove.6B.zip\n",
            "Resolving downloads.cs.stanford.edu (downloads.cs.stanford.edu)... 171.64.64.22\n",
            "Connecting to downloads.cs.stanford.edu (downloads.cs.stanford.edu)|171.64.64.22|:80... connected.\n",
            "HTTP request sent, awaiting response... 200 OK\n",
            "Length: 862182613 (822M) [application/zip]\n",
            "Saving to: ‘glove.6B.zip’\n",
            "\n",
            "glove.6B.zip        100%[===================>] 822.24M  2.01MB/s    in 6m 52s  \n",
            "\n",
            "2021-02-20 09:11:43 (2.00 MB/s) - ‘glove.6B.zip’ saved [862182613/862182613]\n",
            "\n"
          ],
          "name": "stdout"
        }
      ]
    },
    {
      "cell_type": "code",
      "metadata": {
        "colab": {
          "base_uri": "https://localhost:8080/"
        },
        "id": "beJ1xmWvqwgH",
        "outputId": "17459c11-a28a-4d7d-ff6f-2f20c0a797a9"
      },
      "source": [
        "# !unzip glove*.zip"
      ],
      "execution_count": null,
      "outputs": [
        {
          "output_type": "stream",
          "text": [
            "Archive:  glove.6B.zip\n",
            "  inflating: glove.6B.50d.txt        \n",
            "  inflating: glove.6B.100d.txt       \n",
            "  inflating: glove.6B.200d.txt       \n",
            "  inflating: glove.6B.300d.txt       \n"
          ],
          "name": "stdout"
        }
      ]
    },
    {
      "cell_type": "code",
      "metadata": {
        "colab": {
          "base_uri": "https://localhost:8080/"
        },
        "id": "q_6z9oQjq0FG",
        "outputId": "2d143e8b-33d1-4902-a9c8-9296b7430ea2"
      },
      "source": [
        "# !ls\r\n"
      ],
      "execution_count": null,
      "outputs": [
        {
          "output_type": "stream",
          "text": [
            "drive\t\t   glove.6B.200d.txt  glove.6B.50d.txt\tsample_data\n",
            "glove.6B.100d.txt  glove.6B.300d.txt  glove.6B.zip\n"
          ],
          "name": "stdout"
        }
      ]
    },
    {
      "cell_type": "code",
      "metadata": {
        "colab": {
          "base_uri": "https://localhost:8080/"
        },
        "id": "MfZDI7w5mzAk",
        "outputId": "5fe70421-3255-46ee-814a-425893bf41d0"
      },
      "source": [
        " # Making the embedding mtrix\n",
        "def make_embedding_layer(vocab_len, wordtoix, embedding_dim=200, glove=True, glove_path= '../glove'):\n",
        "    if glove == False:\n",
        "        print('Just a zero matrix loaded')\n",
        "        embedding_matrix = np.zeros((vocab_len, embedding_dim)) # just a zero matrix \n",
        "    else:\n",
        "        print('Loading glove...')\n",
        "        glove_dir = '/content'\n",
        "        embeddings_index = {}  \n",
        "        f = open(os.path.join(glove_dir, 'glove.6B.'+str(embedding_dim)+'d.txt'), encoding=\"utf-8\")\n",
        "        for line in f:\n",
        "            values = line.split()\n",
        "            word = values[0]\n",
        "            coefs = np.asarray(values[1:], dtype='float32')\n",
        "            embeddings_index[word] = coefs\n",
        "        f.close()\n",
        "        # Get n-dim dense vector for each of the vocab_rocc\n",
        "        embedding_matrix = np.zeros((vocab_len, embedding_dim)) # to import as weights for Keras Embedding layer\n",
        "        for word, i in wordtoix.items():\n",
        "            embedding_vector = embeddings_index.get(word)\n",
        "            if embedding_vector is not None:\n",
        "                # Words not found in the embedding index will be all zeros\n",
        "                embedding_matrix[i] = embedding_vector\n",
        "        \n",
        "        print(\"GloVe \",embedding_dim, ' loaded!')\n",
        "\n",
        "    embedding_layer = Embedding(vocab_len, embedding_dim, mask_zero=True, trainable=False) # we have a limited vocab so we \n",
        "                                                                                           # do not train the embedding layer\n",
        "                                                                                           # we use 0 as padding so => mask_zero=True\n",
        "    embedding_layer.build((None,))\n",
        "    embedding_layer.set_weights([embedding_matrix])\n",
        "    return embedding_layer\n",
        "\n",
        "embeddings_encoder = make_embedding_layer(encoder_vocab_size, wordtoix_enc, embedding_dim=embedding_dim, glove=True)\n",
        "embeddings_decoder = make_embedding_layer(decoder_vocab_size, wordtoix_dec, embedding_dim=embedding_dim, glove=True)\n"
      ],
      "execution_count": null,
      "outputs": [
        {
          "output_type": "stream",
          "text": [
            "Loading glove...\n",
            "GloVe  50  loaded!\n",
            "Loading glove...\n",
            "GloVe  50  loaded!\n"
          ],
          "name": "stdout"
        }
      ]
    },
    {
      "cell_type": "markdown",
      "metadata": {
        "id": "DQPrsm7dmzAl"
      },
      "source": [
        "#### transformer layers"
      ]
    },
    {
      "cell_type": "code",
      "metadata": {
        "id": "4SqtUo2wmzAm"
      },
      "source": [
        "# hyper-params\n",
        "init_lr = 0.01\n",
        "lmbda_l2 = 0.1\n",
        "d_out_rate = 0.1 # tested 0.4, 0.3, 0.1 values this 0.1 seems to be the best\n",
        "num_layers = 4 # chaged from 4 to 5 to learn better\n",
        "d_model = embedding_dim # d_model is the representation dimension or embedding dimension of a word (usually in the range 128–512)\n",
        "dff = 512 # number of neurons in feed forward network\n",
        "num_heads = 5 # first it was 8 i chenged it to 10 to use embd =300d"
      ],
      "execution_count": null,
      "outputs": []
    },
    {
      "cell_type": "code",
      "metadata": {
        "id": "BbALc-LKmzAn"
      },
      "source": [
        "# The Point-wise feed-forward network block is essentially a \n",
        "# two-layer linear transformation which is used identically throughout the model\n",
        "def point_wise_feed_forward_network(d_model, dff):\n",
        "    return krs.Sequential([\n",
        "        krs.layers.Dense(dff, activation='relu',kernel_regularizer=krs.regularizers.l2(l=lmbda_l2)),\n",
        "        krs.layers.Dense(d_model,kernel_regularizer=krs.regularizers.l2(l=lmbda_l2))\n",
        "    ])"
      ],
      "execution_count": null,
      "outputs": []
    },
    {
      "cell_type": "code",
      "metadata": {
        "scrolled": true,
        "id": "xhQKudzwmzAo"
      },
      "source": [
        "class EncoderLayer(krs.layers.Layer):\n",
        "    def __init__(self, d_model, num_heads, dff, rate=d_out_rate):\n",
        "        super(EncoderLayer, self).__init__()\n",
        "\n",
        "        self.mha = MultiHeadAttention(d_model, num_heads)\n",
        "        self.ffn = point_wise_feed_forward_network(d_model, dff)\n",
        "\n",
        "        self.layernorm1 = krs.layers.LayerNormalization(epsilon=1e-6)\n",
        "        self.layernorm2 = krs.layers.LayerNormalization(epsilon=1e-6)\n",
        "\n",
        "        self.dropout1 = krs.layers.Dropout(rate)\n",
        "        self.dropout2 = krs.layers.Dropout(rate)\n",
        "   \n",
        "    # it has 1 layer of multi-headed attention\n",
        "    def call(self, x, training, mask):\n",
        "        attn_output, _ = self.mha(x, x, x, mask)\n",
        "        attn_output = self.dropout1(attn_output, training=training)\n",
        "        out1 = self.layernorm1(x + attn_output)\n",
        "\n",
        "        ffn_output = self.ffn(out1)\n",
        "        ffn_output = self.dropout2(ffn_output, training=training)\n",
        "        out2 = self.layernorm2(out1 + ffn_output)\n",
        "\n",
        "        return out2"
      ],
      "execution_count": null,
      "outputs": []
    },
    {
      "cell_type": "code",
      "metadata": {
        "id": "vk159IiZmzAo"
      },
      "source": [
        "class DecoderLayer(krs.layers.Layer):\n",
        "    def __init__(self, d_model, num_heads, dff, rate=d_out_rate):\n",
        "        super(DecoderLayer, self).__init__()\n",
        "\n",
        "        self.mha1 = MultiHeadAttention(d_model, num_heads)\n",
        "        self.mha2 = MultiHeadAttention(d_model, num_heads)\n",
        "\n",
        "        self.ffn = point_wise_feed_forward_network(d_model, dff)\n",
        "\n",
        "        self.layernorm1 = krs.layers.LayerNormalization(epsilon=1e-6)\n",
        "        self.layernorm2 = krs.layers.LayerNormalization(epsilon=1e-6)\n",
        "        self.layernorm3 = krs.layers.LayerNormalization(epsilon=1e-6)\n",
        "\n",
        "        self.dropout1 = krs.layers.Dropout(rate)\n",
        "        self.dropout2 = krs.layers.Dropout(rate)\n",
        "        self.dropout3 = krs.layers.Dropout(rate)\n",
        "    \n",
        "    # it has 2 layers of multi-headed attention\n",
        "    def call(self, x, enc_output, training, look_ahead_mask, padding_mask):\n",
        "        attn1, attn_weights_block1 = self.mha1(x, x, x, look_ahead_mask)\n",
        "        attn1 = self.dropout1(attn1, training=training)\n",
        "        out1 = self.layernorm1(attn1 + x)\n",
        "\n",
        "        attn2, attn_weights_block2 = self.mha2(enc_output, enc_output, out1, padding_mask)\n",
        "        attn2 = self.dropout2(attn2, training=training)\n",
        "        out2 = self.layernorm2(attn2 + out1)\n",
        "\n",
        "        ffn_output = self.ffn(out2)\n",
        "        ffn_output = self.dropout3(ffn_output, training=training)\n",
        "        out3 = self.layernorm3(ffn_output + out2)\n",
        "\n",
        "        return out3, attn_weights_block1, attn_weights_block2"
      ],
      "execution_count": null,
      "outputs": []
    },
    {
      "cell_type": "code",
      "metadata": {
        "id": "UH3BGwSZmzAp"
      },
      "source": [
        "class Encoder(krs.layers.Layer):\n",
        "    def __init__(self, num_layers, d_model, num_heads, dff, input_vocab_size, maximum_position_encoding, rate=d_out_rate):\n",
        "        super(Encoder, self).__init__()\n",
        "\n",
        "        self.d_model = d_model\n",
        "        self.num_layers = num_layers\n",
        "\n",
        "        self.embedding = embeddings_encoder\n",
        "        self.pos_encoding = positional_encoding(maximum_position_encoding, self.d_model)\n",
        "\n",
        "        self.enc_layers = [EncoderLayer(d_model, num_heads, dff, rate) for _ in range(num_layers)]\n",
        "\n",
        "        self.dropout = krs.layers.Dropout(rate)\n",
        "        self.dropout_embd = krs.layers.Dropout(rate)\n",
        "        \n",
        "    def call(self, x, training, mask):\n",
        "        seq_len = tf.shape(x)[1]\n",
        "\n",
        "        x = self.embedding(x)\n",
        "        x = self.dropout_embd(x, training=training) # dropout added to encoder input changed from nothing to this\n",
        "        x *= tf.math.sqrt(tf.cast(self.d_model, tf.float32))\n",
        "        x += self.pos_encoding[:, :seq_len, :]\n",
        "\n",
        "        x = self.dropout(x, training=training)\n",
        "    \n",
        "        for i in range(self.num_layers):\n",
        "            x = self.enc_layers[i](x, training, mask)\n",
        "    \n",
        "        return x"
      ],
      "execution_count": null,
      "outputs": []
    },
    {
      "cell_type": "code",
      "metadata": {
        "id": "mxpORkOKmzAq"
      },
      "source": [
        "class Decoder(krs.layers.Layer):\n",
        "    def __init__(self, num_layers, d_model, num_heads, dff, target_vocab_size, maximum_position_encoding, rate=d_out_rate):\n",
        "        super(Decoder, self).__init__()\n",
        "\n",
        "        self.d_model = d_model\n",
        "        self.num_layers = num_layers\n",
        "\n",
        "        self.embedding = embeddings_decoder\n",
        "        self.pos_encoding = positional_encoding(maximum_position_encoding, d_model)\n",
        "\n",
        "        self.dec_layers = [DecoderLayer(d_model, num_heads, dff, rate) for _ in range(num_layers)] # a list of decoder layers\n",
        "        self.dropout = krs.layers.Dropout(rate)\n",
        "    \n",
        "    def call(self, x, enc_output, training, look_ahead_mask, padding_mask):\n",
        "        seq_len = tf.shape(x)[1]\n",
        "        attention_weights = {}\n",
        "\n",
        "        x = self.embedding(x)\n",
        "        x *= tf.math.sqrt(tf.cast(self.d_model, tf.float32))\n",
        "        x += self.pos_encoding[:, :seq_len, :]\n",
        "\n",
        "        x = self.dropout(x, training=training)\n",
        "\n",
        "        for i in range(self.num_layers):\n",
        "            x, block1, block2 = self.dec_layers[i](x, enc_output, training, look_ahead_mask, padding_mask) # enc_output is fed into it\n",
        "\n",
        "            attention_weights['decoder_layer{}_block1'.format(i+1)] = block1\n",
        "            attention_weights['decoder_layer{}_block2'.format(i+1)] = block2\n",
        "    \n",
        "        return x, attention_weights"
      ],
      "execution_count": null,
      "outputs": []
    },
    {
      "cell_type": "markdown",
      "metadata": {
        "id": "YemD_-fBmzAr"
      },
      "source": [
        "#### Final model"
      ]
    },
    {
      "cell_type": "code",
      "metadata": {
        "id": "uud1wevUmzAs"
      },
      "source": [
        "class Transformer(krs.Model):\n",
        "    def __init__(self, num_layers, d_model, num_heads, dff, input_vocab_size,\n",
        "                                     target_vocab_size, pe_input, pe_target, rate=d_out_rate):\n",
        "        super(Transformer, self).__init__()\n",
        "\n",
        "        self.encoder = Encoder(num_layers, d_model, num_heads, dff, input_vocab_size, pe_input, rate)\n",
        "\n",
        "        self.decoder = Decoder(num_layers, d_model, num_heads, dff, target_vocab_size, pe_target, rate)\n",
        "\n",
        "        self.final_layer = krs.layers.Dense(target_vocab_size, kernel_regularizer=krs.regularizers.l2(l=lmbda_l2))\n",
        "        \n",
        "        \n",
        "    # training argument is used in dropout inputs\n",
        "    def call(self, inp, tar, training, enc_padding_mask, look_ahead_mask, dec_padding_mask):\n",
        "        enc_output = self.encoder(inp, training, enc_padding_mask)\n",
        "       \n",
        "        dec_output, attention_weights = self.decoder(tar, enc_output, training, look_ahead_mask, dec_padding_mask)\n",
        "\n",
        "        final_output = self.final_layer(dec_output)\n",
        "\n",
        "        return final_output, attention_weights"
      ],
      "execution_count": null,
      "outputs": []
    },
    {
      "cell_type": "code",
      "metadata": {
        "id": "xPbDDoHrmzAs"
      },
      "source": [
        "transformer = Transformer(\n",
        "    num_layers, \n",
        "    d_model, \n",
        "    num_heads, \n",
        "    dff,\n",
        "    encoder_vocab_size, \n",
        "    decoder_vocab_size, \n",
        "    pe_input=max_len_news,\n",
        "    pe_target=max_len_summary,\n",
        ")"
      ],
      "execution_count": null,
      "outputs": []
    },
    {
      "cell_type": "markdown",
      "metadata": {
        "id": "jFHRoJxumzAt"
      },
      "source": [
        "#### Masking\n"
      ]
    },
    {
      "cell_type": "code",
      "metadata": {
        "id": "pK95yt48mzAu"
      },
      "source": [
        "# Padding mask for masking \"pad\" sequences so \n",
        "# they won't affect the loss\n",
        "def create_padding_mask(seq):\n",
        "    seq = tf.cast(tf.math.equal(seq, 0), tf.float32)\n",
        "    return seq[:, tf.newaxis, tf.newaxis, :]\n",
        "\n",
        "# Lookahead mask for masking future words from\n",
        "# contributing in prediction of current words in self attention\n",
        "def create_look_ahead_mask(size):\n",
        "    mask = 1 - tf.linalg.band_part(tf.ones((size, size)), -1, 0)\n",
        "    return mask"
      ],
      "execution_count": null,
      "outputs": []
    },
    {
      "cell_type": "code",
      "metadata": {
        "id": "6NR4aJismzAu"
      },
      "source": [
        "# this function is use in training step\n",
        "def create_masks(inp, tar):\n",
        "    enc_padding_mask = create_padding_mask(inp)\n",
        "    dec_padding_mask = create_padding_mask(inp)\n",
        "\n",
        "    look_ahead_mask = create_look_ahead_mask(tf.shape(tar)[1])\n",
        "    dec_target_padding_mask = create_padding_mask(tar)\n",
        "        \n",
        "    combined_mask = tf.maximum(dec_target_padding_mask, look_ahead_mask)\n",
        "  \n",
        "    return enc_padding_mask, combined_mask, dec_padding_mask"
      ],
      "execution_count": null,
      "outputs": []
    },
    {
      "cell_type": "markdown",
      "metadata": {
        "id": "bR9rnicjmzAv"
      },
      "source": [
        "#### training"
      ]
    },
    {
      "cell_type": "code",
      "metadata": {
        "id": "KFRSmWG7mzAw"
      },
      "source": [
        "lr_schedule = krs.optimizers.schedules.ExponentialDecay(\n",
        "    initial_learning_rate=init_lr, # originally was 1e-5\n",
        "    decay_steps=4000, # approximately 5 epochs\n",
        "    decay_rate=0.95) # originally was 0.9"
      ],
      "execution_count": null,
      "outputs": []
    },
    {
      "cell_type": "code",
      "metadata": {
        "id": "_T9nvGPlmzAx"
      },
      "source": [
        "\n",
        "optimizer2 = Adam(lr_schedule , beta_1=0.9, beta_2=0.98, epsilon=1e-9) # changed to init\n",
        "loss_object = SparseCategoricalCrossentropy(from_logits=True, reduction='none') # added softmax changed from_logits to false"
      ],
      "execution_count": null,
      "outputs": []
    },
    {
      "cell_type": "code",
      "metadata": {
        "id": "HEgO8Y9ImzAx"
      },
      "source": [
        "def loss_function(real, pred, l2= False):\n",
        " \n",
        "    if l2:\n",
        "        lambda_ = 0.0001\n",
        "        l2_norms = [tf.nn.l2_loss(v) for v in transformer.trainable_variables]\n",
        "        l2_norm = tf.reduce_sum(l2_norms)\n",
        "        l2_value = lambda_ * l2_norm\n",
        "        loss_ = loss_object(real, pred) + l2_value\n",
        "    else:\n",
        "        loss_ = loss_object(real, pred) \n",
        "    \n",
        "    mask = tf.math.logical_not(tf.math.equal(real, 0))\n",
        "    mask = tf.cast(mask, dtype=loss_.dtype)\n",
        "    loss_ *= mask\n",
        "    \n",
        "    return tf.reduce_sum(loss_)/tf.reduce_sum(mask)"
      ],
      "execution_count": null,
      "outputs": []
    },
    {
      "cell_type": "code",
      "metadata": {
        "id": "C45v77mMmzAy"
      },
      "source": [
        "checkpoint_path4 =\"checkpoints4\"\n",
        "\n",
        "ckpt4 = tf.train.Checkpoint(transformer=transformer, optimizer=optimizer2)\n",
        "\n",
        "ckpt_manager4 = tf.train.CheckpointManager(ckpt4, checkpoint_path4, max_to_keep=100)\n",
        "\n",
        "# if ckpt_manager4.latest_checkpoint:\n",
        "#     ckpt4.restore(ckpt_manager4.latest_checkpoint)\n",
        "#     print ('Latest checkpoint restored!!')"
      ],
      "execution_count": null,
      "outputs": []
    },
    {
      "cell_type": "markdown",
      "metadata": {
        "id": "86ia5V05mzAz"
      },
      "source": [
        "#### inference"
      ]
    },
    {
      "cell_type": "code",
      "metadata": {
        "id": "mhlG5opjmzAz"
      },
      "source": [
        "def evaluate(input_document):\n",
        "    input_document = document_tokenizer.texts_to_sequences([input_document])\n",
        "    input_document = krs.preprocessing.sequence.pad_sequences(input_document, maxlen=max_len_news, \n",
        "                                                                           padding='post', truncating='post')\n",
        "    \n",
        "    encoder_input = tf.expand_dims(input_document[0], 0)\n",
        "\n",
        "    decoder_input = [summary_tokenizer.word_index[start_token]]\n",
        "    output = tf.expand_dims(decoder_input, 0)\n",
        "    \n",
        "    for i in range(max_len_summary):\n",
        "        enc_padding_mask, combined_mask, dec_padding_mask = create_masks(encoder_input, output)\n",
        "\n",
        "        predictions, attention_weights = transformer(\n",
        "            encoder_input, \n",
        "            output,\n",
        "            False,\n",
        "            enc_padding_mask,\n",
        "            combined_mask,\n",
        "            dec_padding_mask\n",
        "        )\n",
        "\n",
        "        predictions = predictions[: ,-1:, :]\n",
        "        predicted_id = tf.cast(tf.argmax(predictions, axis=-1), tf.int32)\n",
        "        # stop prediciting if it reached end_token\n",
        "        if predicted_id == summary_tokenizer.word_index[end_token]:\n",
        "            return tf.squeeze(output, axis=0), attention_weights\n",
        "\n",
        "        output = tf.concat([output, predicted_id], axis=-1)\n",
        "    return tf.squeeze(output, axis=0), attention_weights\n",
        "\n",
        "def summarize(input_document):\n",
        "    # not considering attention weights for now, can be used to plot attention heatmaps in the future\n",
        "    summarized = evaluate(input_document=input_document)[0].numpy()\n",
        "    summarized = np.expand_dims(summarized[1:], 0)  # remove start_token\n",
        "    return summary_tokenizer.sequences_to_texts(summarized)[0]  # since there is just one translated document"
      ],
      "execution_count": null,
      "outputs": []
    },
    {
      "cell_type": "code",
      "metadata": {
        "scrolled": true,
        "id": "3_Hsq6_UmzA0"
      },
      "source": [
        "def validate():\n",
        "    print('validation started ...')\n",
        "    val_loss.reset_states()\n",
        "    for (batch, (inp, tar)) in enumerate(dataset_val):    \n",
        "        tar_inp = tar[:, :-1] # <startseq> hi im moein\n",
        "        tar_real = tar[:, 1:] # hi im moein <endseq>\n",
        "\n",
        "        enc_padding_mask, combined_mask, dec_padding_mask = create_masks(inp, tar_inp)\n",
        "\n",
        "        # Operations are recorded if they are executed within this context manager\n",
        "        # and at least one of their inputs is being \"watched\". Trainable variables are automatically watched\n",
        "        predictions, _ = transformer(\n",
        "            inp, tar_inp, \n",
        "            False, \n",
        "            enc_padding_mask, \n",
        "            combined_mask, \n",
        "            dec_padding_mask\n",
        "        )\n",
        "        loss = loss_function(tar_real, predictions)\n",
        "        val_loss(loss)\n",
        "    print('\\n* Validation loss: {} '.format(val_loss.result()) )\n",
        "    return val_loss.result()\n",
        "# validate()"
      ],
      "execution_count": null,
      "outputs": []
    },
    {
      "cell_type": "code",
      "metadata": {
        "id": "p2AInjnWmzA1"
      },
      "source": [
        "@tf.function # Compiles a function into a callable TensorFlow graph\n",
        "def train_step(inp, tar):\n",
        "    tar_inp = tar[:, :-1] # <startseq> hi im moein\n",
        "    tar_real = tar[:, 1:] # hi im moein <endseq>\n",
        "\n",
        "    enc_padding_mask, combined_mask, dec_padding_mask = create_masks(inp, tar_inp)\n",
        "    \n",
        "    # Operations are recorded if they are executed within this context manager\n",
        "    # and at least one of their inputs is being \"watched\". Trainable variables are automatically watched\n",
        "    with tf.GradientTape() as tape:\n",
        "        predictions, _ = transformer(\n",
        "            inp, tar_inp, \n",
        "            True, \n",
        "            enc_padding_mask, \n",
        "            combined_mask, \n",
        "            dec_padding_mask\n",
        "        )\n",
        "        loss = loss_function(tar_real, predictions)\n",
        "\n",
        "    gradients = tape.gradient(loss, transformer.trainable_variables)    \n",
        "    optimizer2.apply_gradients(zip(gradients, transformer.trainable_variables))\n",
        "    \n",
        "    # mean the loss with new computed  loss of the step\n",
        "    train_loss(loss)"
      ],
      "execution_count": null,
      "outputs": []
    },
    {
      "cell_type": "code",
      "metadata": {
        "id": "UepqHnIrmzA2"
      },
      "source": [
        "history={'val':[],'train':[]}\n",
        "EPOCHS = 10\n",
        "not_progressing = 0\n",
        "# Computes the (weighted) mean of the given loss values.\n",
        "train_loss = krs.metrics.Mean(name='train_loss')\n",
        "val_loss = krs.metrics.Mean(name='val_loss')"
      ],
      "execution_count": null,
      "outputs": []
    },
    {
      "cell_type": "code",
      "metadata": {
        "colab": {
          "base_uri": "https://localhost:8080/"
        },
        "id": "dkUPrqUgmzA2",
        "outputId": "137c8836-50f0-40b1-895f-39f5323ef124"
      },
      "source": [
        "params = {\n",
        "'lmbda_l2' : lmbda_l2,\n",
        "'d_out_rate' :d_out_rate,\n",
        "'num_layers' : num_layers ,\n",
        "'d_model' : d_model  ,\n",
        "'dff' : dff ,\n",
        "'num_heads' : num_heads,\n",
        "'init_lr':init_lr}\n",
        "params"
      ],
      "execution_count": null,
      "outputs": [
        {
          "output_type": "execute_result",
          "data": {
            "text/plain": [
              "{'d_model': 50,\n",
              " 'd_out_rate': 0.1,\n",
              " 'dff': 512,\n",
              " 'init_lr': 0.01,\n",
              " 'lmbda_l2': 0.1,\n",
              " 'num_heads': 5,\n",
              " 'num_layers': 4}"
            ]
          },
          "metadata": {
            "tags": []
          },
          "execution_count": 121
        }
      ]
    },
    {
      "cell_type": "code",
      "metadata": {
        "id": "Z4xH7vXemzA3"
      },
      "source": [
        "ep = 1\n",
        "best_val_loss = np.inf\n",
        "i1,i2,i3,i4 = np.random.randint(len(summaries_val)),np.random.randint(len(summaries_val)),np.random.randint(len(summaries_val)),np.random.randint(len(summaries_val))"
      ],
      "execution_count": null,
      "outputs": []
    },
    {
      "cell_type": "code",
      "metadata": {
        "scrolled": true,
        "colab": {
          "base_uri": "https://localhost:8080/",
          "height": 1000
        },
        "id": "k7uuu9zvmzA4",
        "outputId": "9f6ff327-ab04-4e3d-8ef9-c1d3d845416b"
      },
      "source": [
        "print(params)\n",
        "print('#'*40)\n",
        "\n",
        "for epoch in range(ep,EPOCHS+1):\n",
        "    ep = epoch\n",
        "    start = time.time()\n",
        "\n",
        "    train_loss.reset_states()\n",
        "  \n",
        "    for (batch, (inp, tar)) in enumerate(dataset):\n",
        "        \n",
        "        train_step(inp, tar)\n",
        "    \n",
        "        if batch % 150 == 0:\n",
        "            print ('Epoch {} Batch {} Loss {:.4f}'.format(epoch , batch, train_loss.result()))\n",
        "                  \n",
        "    print()\n",
        "    print(summarize(clean_words(longreview_val['long'][i1])))\n",
        "    print(summarize(clean_words(longreview_val['long'][i2])))\n",
        "    print(summarize(clean_words(longreview_val['long'][i3])))\n",
        "    print(summarize(clean_words(longreview_val['long'][i4])))\n",
        "    print()\n",
        "    \n",
        "    val_loss_ = validate().numpy()\n",
        "    history['val'].append((epoch,val_loss_))\n",
        "    print ('\\n* Train Loss {:.4f}'.format(train_loss.result()))\n",
        "    history['train'].append((epoch,train_loss.result().numpy()))\n",
        "    \n",
        "    \n",
        "    if best_val_loss-val_loss_ > 0.1:\n",
        "        ckpt_save_path4 = ckpt_manager4.save()\n",
        "        print ('\\nSaving checkpoint for epoch {} at {}'.format(epoch, ckpt_save_path4))  \n",
        "        best_val_loss = val_loss_\n",
        "    \n",
        "    hist(history)\n",
        "    print('Current Lr: ',optimizer2._decayed_lr('float32').numpy())\n",
        "    print ('\\nTime taken for this epoch: {:.2f} secs\\n'.format(time.time() - start))\n",
        "    print('='*40)"
      ],
      "execution_count": null,
      "outputs": [
        {
          "output_type": "stream",
          "text": [
            "{'lmbda_l2': 0.1, 'd_out_rate': 0.1, 'num_layers': 4, 'd_model': 50, 'dff': 512, 'num_heads': 5, 'init_lr': 0.01}\n",
            "########################################\n",
            "Epoch 1 Batch 0 Loss 9.0696\n",
            "Epoch 1 Batch 150 Loss 7.0674\n",
            "Epoch 1 Batch 300 Loss 6.9919\n",
            "Epoch 1 Batch 450 Loss 6.9620\n",
            "Epoch 1 Batch 600 Loss 6.9323\n",
            "Epoch 1 Batch 750 Loss 6.8998\n",
            "\n",
            "<UNK> <UNK> <UNK> <UNK> <UNK> <UNK> <UNK> <UNK> <UNK> <UNK> <UNK> <UNK>\n",
            "<UNK> <UNK> <UNK> <UNK> <UNK> <UNK> <UNK> <UNK> <UNK> <UNK> <UNK> <UNK>\n",
            "<UNK> <UNK> <UNK> <UNK> <UNK> <UNK> <UNK> <UNK> <UNK> <UNK> <UNK> <UNK>\n",
            "<UNK> <UNK> <UNK> <UNK> <UNK> <UNK> <UNK> <UNK> <UNK> <UNK> <UNK> <UNK>\n",
            "\n",
            "validation started ...\n",
            "\n",
            "* Validation loss: 7.065740585327148 \n",
            "\n",
            "* Train Loss 6.8958\n",
            "\n",
            "Saving checkpoint for epoch 1 at checkpoints4/ckpt-1\n"
          ],
          "name": "stdout"
        },
        {
          "output_type": "display_data",
          "data": {
            "image/png": "[encoded data removed]",
            "text/plain": [
              "<Figure size 432x288 with 1 Axes>"
            ]
          },
          "metadata": {
            "tags": [],
            "needs_background": "light"
          }
        },
        {
          "output_type": "stream",
          "text": [
            "smallest val loss: (1, 7.0657406)\n",
            "Current Lr:  0.009901111\n",
            "\n",
            "Time taken for this epoch: 375.26 secs\n",
            "\n",
            "========================================\n",
            "Epoch 2 Batch 0 Loss 6.7061\n",
            "Epoch 2 Batch 150 Loss 6.7294\n",
            "Epoch 2 Batch 300 Loss 6.7168\n",
            "Epoch 2 Batch 450 Loss 6.7139\n",
            "Epoch 2 Batch 600 Loss 6.7103\n",
            "Epoch 2 Batch 750 Loss 6.7058\n",
            "\n",
            "<UNK> <UNK> <UNK> <UNK> <UNK> <UNK> <UNK> <UNK> <UNK> <UNK> <UNK> <UNK>\n",
            "<UNK> <UNK> <UNK> <UNK> <UNK> <UNK> <UNK> <UNK> <UNK> <UNK> <UNK> <UNK>\n",
            "<UNK> <UNK> <UNK> <UNK> <UNK> <UNK> <UNK> <UNK> <UNK> <UNK> <UNK> <UNK>\n",
            "<UNK> <UNK> <UNK> <UNK> <UNK> <UNK> <UNK> <UNK> <UNK> <UNK> <UNK> <UNK>\n",
            "\n",
            "validation started ...\n",
            "\n",
            "* Validation loss: 7.745202541351318 \n",
            "\n",
            "* Train Loss 6.7048\n"
          ],
          "name": "stdout"
        },
        {
          "output_type": "display_data",
          "data": {
            "image/png": "[encoded data removed]",
            "text/plain": [
              "<Figure size 432x288 with 1 Axes>"
            ]
          },
          "metadata": {
            "tags": [],
            "needs_background": "light"
          }
        },
        {
          "output_type": "stream",
          "text": [
            "smallest val loss: (1, 7.0657406)\n",
            "Current Lr:  0.009803201\n",
            "\n",
            "Time taken for this epoch: 366.69 secs\n",
            "\n",
            "========================================\n",
            "Epoch 3 Batch 0 Loss 6.7215\n",
            "Epoch 3 Batch 150 Loss 6.6601\n",
            "Epoch 3 Batch 300 Loss 6.6634\n",
            "Epoch 3 Batch 450 Loss 6.6673\n",
            "Epoch 3 Batch 600 Loss 6.6613\n",
            "Epoch 3 Batch 750 Loss 6.6582\n",
            "\n",
            "<UNK> <UNK> <UNK> <UNK> <UNK> <UNK> <UNK> <UNK> <UNK> <UNK> <UNK> <UNK>\n",
            "<UNK> <UNK> <UNK> <UNK> <UNK> <UNK> <UNK> <UNK> <UNK> <UNK> <UNK> <UNK>\n",
            "<UNK> <UNK> <UNK> <UNK> <UNK> <UNK> <UNK> <UNK> <UNK> <UNK> <UNK> <UNK>\n",
            "<UNK> <UNK> <UNK> <UNK> <UNK> <UNK> <UNK> <UNK> <UNK> <UNK> <UNK> <UNK>\n",
            "\n",
            "validation started ...\n",
            "\n",
            "* Validation loss: 7.790683269500732 \n",
            "\n",
            "* Train Loss 6.6576\n"
          ],
          "name": "stdout"
        },
        {
          "output_type": "display_data",
          "data": {
            "image/png": "[encoded data removed]",
            "text/plain": [
              "<Figure size 432x288 with 1 Axes>"
            ]
          },
          "metadata": {
            "tags": [],
            "needs_background": "light"
          }
        },
        {
          "output_type": "stream",
          "text": [
            "smallest val loss: (1, 7.0657406)\n",
            "Current Lr:  0.009706258\n",
            "\n",
            "Time taken for this epoch: 370.10 secs\n",
            "\n",
            "========================================\n",
            "Epoch 4 Batch 0 Loss 6.6905\n",
            "Epoch 4 Batch 150 Loss 6.6227\n",
            "Epoch 4 Batch 300 Loss 6.6295\n",
            "Epoch 4 Batch 450 Loss 6.6308\n",
            "Epoch 4 Batch 600 Loss 6.6317\n",
            "Epoch 4 Batch 750 Loss 6.6333\n",
            "\n",
            "<UNK> <UNK> <UNK> <UNK> <UNK> <UNK> <UNK> <UNK> <UNK> <UNK> <UNK> <UNK>\n",
            "<UNK> <UNK> <UNK> <UNK> <UNK> <UNK> <UNK> <UNK> <UNK> <UNK> <UNK> <UNK>\n",
            "<UNK> <UNK> <UNK> <UNK> <UNK> <UNK> <UNK> <UNK> <UNK> <UNK> <UNK> <UNK>\n",
            "<UNK> <UNK> <UNK> <UNK> <UNK> <UNK> <UNK> <UNK> <UNK> <UNK> <UNK> <UNK>\n",
            "\n",
            "validation started ...\n",
            "\n",
            "* Validation loss: 7.752084255218506 \n",
            "\n",
            "* Train Loss 6.6327\n"
          ],
          "name": "stdout"
        },
        {
          "output_type": "display_data",
          "data": {
            "image/png": "[encoded data removed]",
            "text/plain": [
              "<Figure size 432x288 with 1 Axes>"
            ]
          },
          "metadata": {
            "tags": [],
            "needs_background": "light"
          }
        },
        {
          "output_type": "stream",
          "text": [
            "smallest val loss: (1, 7.0657406)\n",
            "Current Lr:  0.009610274\n",
            "\n",
            "Time taken for this epoch: 371.03 secs\n",
            "\n",
            "========================================\n",
            "Epoch 5 Batch 0 Loss 6.4344\n",
            "Epoch 5 Batch 150 Loss 6.6125\n",
            "Epoch 5 Batch 300 Loss 6.6146\n",
            "Epoch 5 Batch 450 Loss 6.6177\n",
            "Epoch 5 Batch 600 Loss 6.6192\n",
            "Epoch 5 Batch 750 Loss 6.6209\n",
            "\n",
            "<UNK> <UNK> <UNK> <UNK> <UNK> <UNK> <UNK> <UNK> <UNK> <UNK> <UNK> <UNK>\n",
            "<UNK> <UNK> <UNK> <UNK> <UNK> <UNK> <UNK> <UNK> <UNK> <UNK> <UNK> <UNK>\n",
            "<UNK> <UNK> <UNK> <UNK> <UNK> <UNK> <UNK> <UNK> <UNK> <UNK> <UNK> <UNK>\n",
            "<UNK> <UNK> <UNK> <UNK> <UNK> <UNK> <UNK> <UNK> <UNK> <UNK> <UNK> <UNK>\n",
            "\n",
            "validation started ...\n",
            "\n",
            "* Validation loss: 7.716094493865967 \n",
            "\n",
            "* Train Loss 6.6201\n"
          ],
          "name": "stdout"
        },
        {
          "output_type": "display_data",
          "data": {
            "image/png": "[encoded data removed]",
            "text/plain": [
              "<Figure size 432x288 with 1 Axes>"
            ]
          },
          "metadata": {
            "tags": [],
            "needs_background": "light"
          }
        },
        {
          "output_type": "stream",
          "text": [
            "smallest val loss: (1, 7.0657406)\n",
            "Current Lr:  0.009515239\n",
            "\n",
            "Time taken for this epoch: 371.90 secs\n",
            "\n",
            "========================================\n",
            "Epoch 6 Batch 0 Loss 6.6108\n",
            "Epoch 6 Batch 150 Loss 6.6060\n",
            "Epoch 6 Batch 300 Loss 6.6071\n",
            "Epoch 6 Batch 450 Loss 6.6127\n",
            "Epoch 6 Batch 600 Loss 6.6123\n",
            "Epoch 6 Batch 750 Loss 6.6147\n",
            "\n",
            "<UNK> <UNK> <UNK> <UNK> <UNK> <UNK> <UNK> <UNK> <UNK> <UNK> <UNK> <UNK>\n",
            "<UNK> <UNK> <UNK> <UNK> <UNK> <UNK> <UNK> <UNK> <UNK> <UNK> <UNK> <UNK>\n",
            "<UNK> <UNK> <UNK> <UNK> <UNK> <UNK> <UNK> <UNK> <UNK> <UNK> <UNK> <UNK>\n",
            "<UNK> <UNK> <UNK> <UNK> <UNK> <UNK> <UNK> <UNK> <UNK> <UNK> <UNK> <UNK>\n",
            "\n",
            "validation started ...\n",
            "\n",
            "* Validation loss: 7.865262985229492 \n",
            "\n",
            "* Train Loss 6.6150\n"
          ],
          "name": "stdout"
        },
        {
          "output_type": "display_data",
          "data": {
            "image/png": "[encoded data removed]",
            "text/plain": [
              "<Figure size 432x288 with 1 Axes>"
            ]
          },
          "metadata": {
            "tags": [],
            "needs_background": "light"
          }
        },
        {
          "output_type": "stream",
          "text": [
            "smallest val loss: (1, 7.0657406)\n",
            "Current Lr:  0.009421145\n",
            "\n",
            "Time taken for this epoch: 374.11 secs\n",
            "\n",
            "========================================\n",
            "Epoch 7 Batch 0 Loss 6.5686\n",
            "Epoch 7 Batch 150 Loss 6.5958\n",
            "Epoch 7 Batch 300 Loss 6.6000\n",
            "Epoch 7 Batch 450 Loss 6.6039\n",
            "Epoch 7 Batch 600 Loss 6.6119\n",
            "Epoch 7 Batch 750 Loss 6.6102\n",
            "\n",
            "<UNK> <UNK> <UNK> <UNK> <UNK> <UNK> <UNK> <UNK> <UNK> <UNK> <UNK> <UNK>\n",
            "<UNK> <UNK> <UNK> <UNK> <UNK> <UNK> <UNK> <UNK> <UNK> <UNK> <UNK> <UNK>\n",
            "<UNK> <UNK> <UNK> <UNK> <UNK> <UNK> <UNK> <UNK> <UNK> <UNK> <UNK> <UNK>\n",
            "<UNK> <UNK> <UNK> <UNK> <UNK> <UNK> <UNK> <UNK> <UNK> <UNK> <UNK> <UNK>\n",
            "\n",
            "validation started ...\n",
            "\n",
            "* Validation loss: 7.7633137702941895 \n",
            "\n",
            "* Train Loss 6.6099\n"
          ],
          "name": "stdout"
        },
        {
          "output_type": "display_data",
          "data": {
            "image/png": "[encoded data removed]",
            "text/plain": [
              "<Figure size 432x288 with 1 Axes>"
            ]
          },
          "metadata": {
            "tags": [],
            "needs_background": "light"
          }
        },
        {
          "output_type": "stream",
          "text": [
            "smallest val loss: (1, 7.0657406)\n",
            "Current Lr:  0.00932798\n",
            "\n",
            "Time taken for this epoch: 373.85 secs\n",
            "\n",
            "========================================\n",
            "Epoch 8 Batch 0 Loss 6.5128\n",
            "Epoch 8 Batch 150 Loss 6.5985\n",
            "Epoch 8 Batch 300 Loss 6.6139\n",
            "Epoch 8 Batch 450 Loss 6.6099\n",
            "Epoch 8 Batch 600 Loss 6.6092\n",
            "Epoch 8 Batch 750 Loss 6.6086\n",
            "\n",
            "<UNK> <UNK> <UNK> <UNK> <UNK> <UNK> <UNK> <UNK> <UNK> <UNK> <UNK> <UNK>\n",
            "<UNK> <UNK> <UNK> <UNK> <UNK> <UNK> <UNK> <UNK> <UNK> <UNK> <UNK> <UNK>\n",
            "<UNK> <UNK> <UNK> <UNK> <UNK> <UNK> <UNK> <UNK> <UNK> <UNK> <UNK> <UNK>\n",
            "<UNK> <UNK> <UNK> <UNK> <UNK> <UNK> <UNK> <UNK> <UNK> <UNK> <UNK> <UNK>\n",
            "\n",
            "validation started ...\n",
            "\n",
            "* Validation loss: 7.569657802581787 \n",
            "\n",
            "* Train Loss 6.6082\n"
          ],
          "name": "stdout"
        },
        {
          "output_type": "display_data",
          "data": {
            "image/png": "[encoded data removed]",
            "text/plain": [
              "<Figure size 432x288 with 1 Axes>"
            ]
          },
          "metadata": {
            "tags": [],
            "needs_background": "light"
          }
        },
        {
          "output_type": "stream",
          "text": [
            "smallest val loss: (1, 7.0657406)\n",
            "Current Lr:  0.009235737\n",
            "\n",
            "Time taken for this epoch: 370.15 secs\n",
            "\n",
            "========================================\n",
            "Epoch 9 Batch 0 Loss 6.5331\n",
            "Epoch 9 Batch 150 Loss 6.6009\n",
            "Epoch 9 Batch 300 Loss 6.6002\n",
            "Epoch 9 Batch 450 Loss 6.6062\n",
            "Epoch 9 Batch 600 Loss 6.6064\n",
            "Epoch 9 Batch 750 Loss 6.6086\n",
            "\n",
            "<UNK> <UNK> <UNK> <UNK> <UNK> <UNK> <UNK> <UNK> <UNK> <UNK> <UNK> <UNK>\n",
            "<UNK> <UNK> <UNK> <UNK> <UNK> <UNK> <UNK> <UNK> <UNK> <UNK> <UNK> <UNK>\n",
            "<UNK> <UNK> <UNK> <UNK> <UNK> <UNK> <UNK> <UNK> <UNK> <UNK> <UNK> <UNK>\n",
            "<UNK> <UNK> <UNK> <UNK> <UNK> <UNK> <UNK> <UNK> <UNK> <UNK> <UNK> <UNK>\n",
            "\n",
            "validation started ...\n",
            "\n",
            "* Validation loss: 7.480488300323486 \n",
            "\n",
            "* Train Loss 6.6077\n"
          ],
          "name": "stdout"
        },
        {
          "output_type": "display_data",
          "data": {
            "image/png": "[encoded data removed]",
            "text/plain": [
              "<Figure size 432x288 with 1 Axes>"
            ]
          },
          "metadata": {
            "tags": [],
            "needs_background": "light"
          }
        },
        {
          "output_type": "stream",
          "text": [
            "smallest val loss: (1, 7.0657406)\n",
            "Current Lr:  0.009144406\n",
            "\n",
            "Time taken for this epoch: 370.06 secs\n",
            "\n",
            "========================================\n",
            "Epoch 10 Batch 0 Loss 6.5256\n",
            "Epoch 10 Batch 150 Loss 6.5760\n",
            "Epoch 10 Batch 300 Loss 6.6039\n",
            "Epoch 10 Batch 450 Loss 6.6088\n",
            "Epoch 10 Batch 600 Loss 6.6067\n",
            "Epoch 10 Batch 750 Loss 6.6093\n",
            "\n",
            "<UNK> <UNK> <UNK> <UNK> <UNK> <UNK> <UNK> <UNK> <UNK> <UNK> <UNK> <UNK>\n",
            "<UNK> <UNK> <UNK> <UNK> <UNK> <UNK> <UNK> <UNK> <UNK> <UNK> <UNK> <UNK>\n",
            "<UNK> <UNK> <UNK> <UNK> <UNK> <UNK> <UNK> <UNK> <UNK> <UNK> <UNK> <UNK>\n",
            "<UNK> <UNK> <UNK> <UNK> <UNK> <UNK> <UNK> <UNK> <UNK> <UNK> <UNK> <UNK>\n",
            "\n",
            "validation started ...\n",
            "\n",
            "* Validation loss: 7.889214038848877 \n",
            "\n",
            "* Train Loss 6.6089\n"
          ],
          "name": "stdout"
        },
        {
          "output_type": "display_data",
          "data": {
            "image/png": "[encoded data removed]",
            "text/plain": [
              "<Figure size 432x288 with 1 Axes>"
            ]
          },
          "metadata": {
            "tags": [],
            "needs_background": "light"
          }
        },
        {
          "output_type": "stream",
          "text": [
            "smallest val loss: (1, 7.0657406)\n",
            "Current Lr:  0.009053979\n",
            "\n",
            "Time taken for this epoch: 368.34 secs\n",
            "\n",
            "========================================\n"
          ],
          "name": "stdout"
        }
      ]
    },
    {
      "cell_type": "markdown",
      "metadata": {
        "id": "hGgg2P3imzA5"
      },
      "source": [
        "output removed to reduce file size for github"
      ]
    },
    {
      "cell_type": "code",
      "metadata": {
        "colab": {
          "base_uri": "https://localhost:8080/",
          "height": 415
        },
        "id": "GErOqIeEmzA6",
        "outputId": "db3d2e92-0dbe-42a7-8ae4-67b8b308cc86"
      },
      "source": [
        "hist(history)\n",
        "params"
      ],
      "execution_count": null,
      "outputs": [
        {
          "output_type": "display_data",
          "data": {
            "image/png": "[encoded data removed]",
            "text/plain": [
              "<Figure size 432x288 with 1 Axes>"
            ]
          },
          "metadata": {
            "tags": [],
            "needs_background": "light"
          }
        },
        {
          "output_type": "stream",
          "text": [
            "smallest val loss: (31, 1.1860565)\n"
          ],
          "name": "stdout"
        },
        {
          "output_type": "execute_result",
          "data": {
            "text/plain": [
              "{'d_model': 50,\n",
              " 'd_out_rate': 0.1,\n",
              " 'dff': 512,\n",
              " 'init_lr': 0.001,\n",
              " 'lmbda_l2': 0.1,\n",
              " 'num_heads': 5,\n",
              " 'num_layers': 4}"
            ]
          },
          "metadata": {
            "tags": []
          },
          "execution_count": 72
        }
      ]
    },
    {
      "cell_type": "markdown",
      "metadata": {
        "id": "kwLJOcBImzA7"
      },
      "source": [
        "you can use more data or more regularization to avoid the overfitting "
      ]
    },
    {
      "cell_type": "code",
      "metadata": {
        "colab": {
          "base_uri": "https://localhost:8080/"
        },
        "id": "hGnthhPUmzA7",
        "outputId": "29d756b5-fab6-4cc5-d9e7-33c338b98bef"
      },
      "source": [
        "print(clean_words(longreview_val['long'][i1]))\n",
        "print()\n",
        "print(summarize(clean_words(longreview_val['long'][i1])))"
      ],
      "execution_count": null,
      "outputs": [
        {
          "output_type": "stream",
          "text": [
            "a nineyearold boy in australia who became iron boy for a day was made an honorary member of the avengers by iron man actor robert downey jr the new south wales police and makeawish foundation jointly helped domenic who is suffering from the fatal illness cystic fibrosis to fulfil his wish of becoming a superhero\n",
            "\n",
            "<UNK> <UNK> <UNK> <UNK> <UNK> <UNK> <UNK> <UNK> <UNK> <UNK> <UNK> <UNK>\n"
          ],
          "name": "stdout"
        }
      ]
    },
    {
      "cell_type": "code",
      "metadata": {
        "colab": {
          "base_uri": "https://localhost:8080/"
        },
        "id": "PLHua28fmzA8",
        "outputId": "d675368d-c1b9-43fb-a327-8ef767936574"
      },
      "source": [
        "print(clean_words(longreview_val['long'][i2]))\n",
        "print()\n",
        "print(summarize(clean_words(longreview_val['long'][i2])))"
      ],
      "execution_count": null,
      "outputs": [
        {
          "output_type": "stream",
          "text": [
            "sbi chief arundhati bhattacharya has said that the new  banknote is not a good mode of exchange as it constrains people from transacting freely further the cash situation may normalise by february end as the number of  notes would exceed  notes by then the chairperson stated moreover atms are being filled up with  notes she added\n",
            "\n",
            "<UNK> <UNK> <UNK> <UNK> <UNK> <UNK> <UNK> <UNK> <UNK> <UNK> <UNK> <UNK>\n"
          ],
          "name": "stdout"
        }
      ]
    },
    {
      "cell_type": "code",
      "metadata": {
        "id": "N5P6chSGmzA9"
      },
      "source": [
        ""
      ],
      "execution_count": null,
      "outputs": []
    }
  ]
}